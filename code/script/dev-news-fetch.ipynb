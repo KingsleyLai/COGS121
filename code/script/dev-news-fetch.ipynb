{
 "cells": [
  {
   "cell_type": "code",
   "execution_count": 60,
   "metadata": {},
   "outputs": [],
   "source": [
    "import datetime\n",
    "import json\n",
    "import os\n",
    "import firebase_admin\n",
    "from firebase_admin import credentials, firestore\n",
    "from googletrans import Translator\n",
    "from faker import Faker"
   ]
  },
  {
   "cell_type": "code",
   "execution_count": 26,
   "metadata": {},
   "outputs": [
    {
     "data": {
      "text/plain": [
       "<firebase_admin.App at 0x10d79ac50>"
      ]
     },
     "execution_count": 26,
     "metadata": {},
     "output_type": "execute_result"
    }
   ],
   "source": [
    "cred = credentials.Certificate(os.getcwd() + \"/cogs121-goduck-firebase-adminsdk-f5baa-73bc1269cd.json\")\n",
    "firebase_admin.initialize_app(cred)"
   ]
  },
  {
   "cell_type": "code",
   "execution_count": 83,
   "metadata": {},
   "outputs": [],
   "source": [
    "translator = Translator()\n",
    "fake = Faker()"
   ]
  },
  {
   "cell_type": "code",
   "execution_count": 85,
   "metadata": {},
   "outputs": [],
   "source": [
    "db = firestore.client()\n",
    "news_content_ref = db.collection('news_content')\n",
    "news_overview_ref = db.collection('news_overview')"
   ]
  },
  {
   "cell_type": "code",
   "execution_count": 29,
   "metadata": {},
   "outputs": [],
   "source": [
    "with open(os.getcwd() + \"/fake_news.json\", 'r') as f:\n",
    "    data = temp = json.load(f)"
   ]
  },
  {
   "cell_type": "code",
   "execution_count": 89,
   "metadata": {},
   "outputs": [],
   "source": [
    "def processNews(title, source, text, category):\n",
    "    news_content_obj = {\"title\": title}\n",
    "    news_content_obj[\"source\"] = source\n",
    "    news_content_obj[\"category\"] = category\n",
    "    news_content_obj[\"translated_title_zh\"] = translator.translate(title, dest='zh-cn', src='en').text\n",
    "    news_content_obj[\"translated_title_es\"] = translator.translate(title, dest='es', src='en').text\n",
    "    news_content_obj[\"translated_title_hi\"] = translator.translate(title, dest='hi', src='en').text\n",
    "\n",
    "    p_list = text.split(\"\\n\")\n",
    "    news_content_obj[\"text\"] = []\n",
    "    \n",
    "    for p in p_list:\n",
    "        temp = {}\n",
    "        temp['en'] = p\n",
    "        temp['zh'] = translator.translate(p, dest='zh-cn', src='en').text\n",
    "        temp['es'] = translator.translate(p, dest='es', src='en').text\n",
    "        temp['hi'] = translator.translate(p, dest='hi', src='en').text\n",
    "        news_content_obj[\"text\"].append(temp)\n",
    "        \n",
    "    news_content_obj['publish_time'] = fake.past_datetime(start_date=\"-3d\", tzinfo=None)\n",
    "    \n",
    "    news_content_obj_ref = news_content_ref.add(news_content_obj)\n",
    "    news_content_obj_id = news_content_obj_ref[1].get().id\n",
    "    \n",
    "    news_overview_obj = {\"title\": title}\n",
    "    news_overview_obj['content_id'] = news_content_obj_id\n",
    "    news_overview_obj[\"source\"] = source \n",
    "    news_overview_obj[\"publish_time\"] = news_content_obj['publish_time']\n",
    "    news_overview_obj[\"translated_title_zh\"] = news_content_obj[\"translated_title_zh\"]\n",
    "    news_overview_obj[\"translated_title_es\"] = news_content_obj[\"translated_title_es\"]\n",
    "    news_overview_obj[\"translated_title_hi\"] = news_content_obj[\"translated_title_hi\"]\n",
    "    news_overview_obj[\"category\"] = news_content_obj[\"category\"]\n",
    "    \n",
    "    news_overview_ref.add(news_overview_obj)"
   ]
  },
  {
   "cell_type": "code",
   "execution_count": 90,
   "metadata": {},
   "outputs": [],
   "source": []
  },
  {
   "cell_type": "code",
   "execution_count": 95,
   "metadata": {},
   "outputs": [],
   "source": [
    "for n in data[\"news\"]['tech']:\n",
    "    processNews(n['title'], n['source'], n['text'], 0)\n",
    "for n in data[\"news\"]['business']:\n",
    "    processNews(n['title'], n['source'], n['text'], 1)"
   ]
  },
  {
   "cell_type": "code",
   "execution_count": 42,
   "metadata": {},
   "outputs": [],
   "source": []
  },
  {
   "cell_type": "code",
   "execution_count": 46,
   "metadata": {},
   "outputs": [],
   "source": []
  },
  {
   "cell_type": "code",
   "execution_count": 84,
   "metadata": {},
   "outputs": [
    {
     "data": {
      "text/plain": [
       "datetime.date(2019, 5, 3)"
      ]
     },
     "execution_count": 84,
     "metadata": {},
     "output_type": "execute_result"
    }
   ],
   "source": []
  },
  {
   "cell_type": "code",
   "execution_count": null,
   "metadata": {},
   "outputs": [],
   "source": []
  }
 ],
 "metadata": {
  "kernelspec": {
   "display_name": "Python 3",
   "language": "python",
   "name": "python3"
  },
  "language_info": {
   "codemirror_mode": {
    "name": "ipython",
    "version": 3
   },
   "file_extension": ".py",
   "mimetype": "text/x-python",
   "name": "python",
   "nbconvert_exporter": "python",
   "pygments_lexer": "ipython3",
   "version": "3.7.0"
  }
 },
 "nbformat": 4,
 "nbformat_minor": 2
}
