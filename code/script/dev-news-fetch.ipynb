{
 "cells": [
  {
   "cell_type": "code",
   "execution_count": 60,
   "metadata": {},
   "outputs": [],
   "source": [
    "import datetime\n",
    "import json\n",
    "import os\n",
    "import firebase_admin\n",
    "from firebase_admin import credentials, firestore\n",
    "from googletrans import Translator\n",
    "from faker import Faker"
   ]
  },
  {
   "cell_type": "code",
   "execution_count": 26,
   "metadata": {},
   "outputs": [
    {
     "data": {
      "text/plain": [
       "<firebase_admin.App at 0x10d79ac50>"
      ]
     },
     "execution_count": 26,
     "metadata": {},
     "output_type": "execute_result"
    }
   ],
   "source": [
    "cred = credentials.Certificate(os.getcwd() + \"/cogs121-goduck-firebase-adminsdk-f5baa-73bc1269cd.json\")\n",
    "firebase_admin.initialize_app(cred)"
   ]
  },
  {
   "cell_type": "code",
   "execution_count": 83,
   "metadata": {},
   "outputs": [],
   "source": [
    "translator = Translator()\n",
    "fake = Faker()"
   ]
  },
  {
   "cell_type": "code",
   "execution_count": 85,
   "metadata": {},
   "outputs": [],
   "source": [
    "db = firestore.client()\n",
    "news_content_ref = db.collection('news_content')\n",
    "news_overview_ref = db.collection('news_overview')"
   ]
  },
  {
   "cell_type": "code",
   "execution_count": 29,
   "metadata": {},
   "outputs": [],
   "source": [
    "with open(os.getcwd() + \"/fake_news.json\", 'r') as f:\n",
    "    data = temp = json.load(f)"
   ]
  },
  {
   "cell_type": "code",
   "execution_count": 87,
   "metadata": {},
   "outputs": [],
   "source": [
    "def processNews(title, source, text, category):\n",
    "    news_content_obj = {\"title\": title}\n",
    "    news_content_obj[\"source\"] = source\n",
    "    news_content_obj[\"category\"] = category\n",
    "    news_content_obj[\"translated_title_zh\"] = translator.translate(title, dest='zh-cn', src='en').text\n",
    "    news_content_obj[\"translated_title_es\"] = translator.translate(title, dest='es', src='en').text\n",
    "    news_content_obj[\"translated_title_hi\"] = translator.translate(title, dest='hi', src='en').text\n",
    "\n",
    "    p_list = text.split(\"\\n\")\n",
    "    news_content_obj[\"text\"] = []\n",
    "    \n",
    "    for p in p_list:\n",
    "        temp = {}\n",
    "        temp['en'] = p\n",
    "        temp['zh'] = translator.translate(p, dest='zh-cn', src='en').text\n",
    "        temp['es'] = translator.translate(p, dest='es', src='en').text\n",
    "        temp['hi'] = translator.translate(p, dest='hi', src='en').text\n",
    "        news_content_obj[\"text\"].append(temp)\n",
    "        \n",
    "#     news_content_obj['publish_time'] = fake.date_between(start_date='-3d', end_date='today')\n",
    "    news_content_obj['publish_time'] = fake.past_datetime(start_date=\"-3d\", tzinfo=None)\n",
    "    \n",
    "    news_content_obj_ref = news_content_ref.add(news_content_obj)\n",
    "    news_content_obj_id = news_content_obj_ref[1].get().id\n",
    "    \n",
    "    news_overview_obj = {\"title\": title}\n",
    "    news_overview_obj['content_id'] = news_content_obj_id\n",
    "    news_overview_obj[\"source\"] = source \n",
    "    news_overview_obj[\"publish_time\"] = news_content_obj['publish_time']\n",
    "    news_overview_obj[\"translated_title_zh\"] = news_content_obj[\"translated_title_zh\"]\n",
    "    news_overview_obj[\"translated_title_es\"] = news_content_obj[\"translated_title_es\"]\n",
    "    news_overview_obj[\"translated_title_hi\"] = news_content_obj[\"translated_title_hi\"]\n",
    "    news_overview_obj[\"category\"] = news_content_obj[\"category\"]\n",
    "    \n",
    "    news_overview_ref.add(news_overview_obj)"
   ]
  },
  {
   "cell_type": "code",
   "execution_count": 88,
   "metadata": {},
   "outputs": [
    {
     "ename": "TypeError",
     "evalue": "('Cannot convert to a Firestore Value', datetime.date(2019, 5, 1), 'Invalid type', <class 'datetime.date'>)",
     "output_type": "error",
     "traceback": [
      "\u001b[0;31m---------------------------------------------------------------------------\u001b[0m",
      "\u001b[0;31mTypeError\u001b[0m                                 Traceback (most recent call last)",
      "\u001b[0;32m<ipython-input-88-33fe4353c886>\u001b[0m in \u001b[0;36m<module>\u001b[0;34m\u001b[0m\n\u001b[0;32m----> 1\u001b[0;31m \u001b[0mprocessNews\u001b[0m\u001b[0;34m(\u001b[0m\u001b[0mn\u001b[0m\u001b[0;34m[\u001b[0m\u001b[0;34m'title'\u001b[0m\u001b[0;34m]\u001b[0m\u001b[0;34m,\u001b[0m \u001b[0mn\u001b[0m\u001b[0;34m[\u001b[0m\u001b[0;34m'source'\u001b[0m\u001b[0;34m]\u001b[0m\u001b[0;34m,\u001b[0m \u001b[0mn\u001b[0m\u001b[0;34m[\u001b[0m\u001b[0;34m'text'\u001b[0m\u001b[0;34m]\u001b[0m\u001b[0;34m,\u001b[0m \u001b[0;36m0\u001b[0m\u001b[0;34m)\u001b[0m\u001b[0;34m\u001b[0m\u001b[0;34m\u001b[0m\u001b[0m\n\u001b[0m",
      "\u001b[0;32m<ipython-input-87-9ee732e524f9>\u001b[0m in \u001b[0;36mprocessNews\u001b[0;34m(title, source, text, category)\u001b[0m\n\u001b[1;32m     20\u001b[0m     \u001b[0mnews_content_obj\u001b[0m\u001b[0;34m[\u001b[0m\u001b[0;34m'publish_time'\u001b[0m\u001b[0;34m]\u001b[0m \u001b[0;34m=\u001b[0m \u001b[0mfake\u001b[0m\u001b[0;34m.\u001b[0m\u001b[0mdate_between\u001b[0m\u001b[0;34m(\u001b[0m\u001b[0mstart_date\u001b[0m\u001b[0;34m=\u001b[0m\u001b[0;34m'-3d'\u001b[0m\u001b[0;34m,\u001b[0m \u001b[0mend_date\u001b[0m\u001b[0;34m=\u001b[0m\u001b[0;34m'today'\u001b[0m\u001b[0;34m)\u001b[0m\u001b[0;34m\u001b[0m\u001b[0;34m\u001b[0m\u001b[0m\n\u001b[1;32m     21\u001b[0m \u001b[0;34m\u001b[0m\u001b[0m\n\u001b[0;32m---> 22\u001b[0;31m     \u001b[0mnews_content_obj_ref\u001b[0m \u001b[0;34m=\u001b[0m \u001b[0mnews_content_ref\u001b[0m\u001b[0;34m.\u001b[0m\u001b[0madd\u001b[0m\u001b[0;34m(\u001b[0m\u001b[0mnews_content_obj\u001b[0m\u001b[0;34m)\u001b[0m\u001b[0;34m\u001b[0m\u001b[0;34m\u001b[0m\u001b[0m\n\u001b[0m\u001b[1;32m     23\u001b[0m     \u001b[0mnews_content_obj_id\u001b[0m \u001b[0;34m=\u001b[0m \u001b[0mnews_content_obj_ref\u001b[0m\u001b[0;34m[\u001b[0m\u001b[0;36m1\u001b[0m\u001b[0;34m]\u001b[0m\u001b[0;34m.\u001b[0m\u001b[0mget\u001b[0m\u001b[0;34m(\u001b[0m\u001b[0;34m)\u001b[0m\u001b[0;34m.\u001b[0m\u001b[0mid\u001b[0m\u001b[0;34m\u001b[0m\u001b[0;34m\u001b[0m\u001b[0m\n\u001b[1;32m     24\u001b[0m \u001b[0;34m\u001b[0m\u001b[0m\n",
      "\u001b[0;32m/anaconda3/lib/python3.7/site-packages/google/cloud/firestore_v1/collection.py\u001b[0m in \u001b[0;36madd\u001b[0;34m(self, document_data, document_id)\u001b[0m\n\u001b[1;32m    173\u001b[0m             \u001b[0mnew_document_id\u001b[0m \u001b[0;34m=\u001b[0m \u001b[0m_helpers\u001b[0m\u001b[0;34m.\u001b[0m\u001b[0mget_doc_id\u001b[0m\u001b[0;34m(\u001b[0m\u001b[0mcreated_document_pb\u001b[0m\u001b[0;34m,\u001b[0m \u001b[0mexpected_prefix\u001b[0m\u001b[0;34m)\u001b[0m\u001b[0;34m\u001b[0m\u001b[0;34m\u001b[0m\u001b[0m\n\u001b[1;32m    174\u001b[0m             \u001b[0mdocument_ref\u001b[0m \u001b[0;34m=\u001b[0m \u001b[0mself\u001b[0m\u001b[0;34m.\u001b[0m\u001b[0mdocument\u001b[0m\u001b[0;34m(\u001b[0m\u001b[0mnew_document_id\u001b[0m\u001b[0;34m)\u001b[0m\u001b[0;34m\u001b[0m\u001b[0;34m\u001b[0m\u001b[0m\n\u001b[0;32m--> 175\u001b[0;31m             \u001b[0mset_result\u001b[0m \u001b[0;34m=\u001b[0m \u001b[0mdocument_ref\u001b[0m\u001b[0;34m.\u001b[0m\u001b[0mset\u001b[0m\u001b[0;34m(\u001b[0m\u001b[0mdocument_data\u001b[0m\u001b[0;34m)\u001b[0m\u001b[0;34m\u001b[0m\u001b[0;34m\u001b[0m\u001b[0m\n\u001b[0m\u001b[1;32m    176\u001b[0m             \u001b[0;32mreturn\u001b[0m \u001b[0mset_result\u001b[0m\u001b[0;34m.\u001b[0m\u001b[0mupdate_time\u001b[0m\u001b[0;34m,\u001b[0m \u001b[0mdocument_ref\u001b[0m\u001b[0;34m\u001b[0m\u001b[0;34m\u001b[0m\u001b[0m\n\u001b[1;32m    177\u001b[0m         \u001b[0;32melse\u001b[0m\u001b[0;34m:\u001b[0m\u001b[0;34m\u001b[0m\u001b[0;34m\u001b[0m\u001b[0m\n",
      "\u001b[0;32m/anaconda3/lib/python3.7/site-packages/google/cloud/firestore_v1/document.py\u001b[0m in \u001b[0;36mset\u001b[0;34m(self, document_data, merge)\u001b[0m\n\u001b[1;32m    230\u001b[0m         \"\"\"\n\u001b[1;32m    231\u001b[0m         \u001b[0mbatch\u001b[0m \u001b[0;34m=\u001b[0m \u001b[0mself\u001b[0m\u001b[0;34m.\u001b[0m\u001b[0m_client\u001b[0m\u001b[0;34m.\u001b[0m\u001b[0mbatch\u001b[0m\u001b[0;34m(\u001b[0m\u001b[0;34m)\u001b[0m\u001b[0;34m\u001b[0m\u001b[0;34m\u001b[0m\u001b[0m\n\u001b[0;32m--> 232\u001b[0;31m         \u001b[0mbatch\u001b[0m\u001b[0;34m.\u001b[0m\u001b[0mset\u001b[0m\u001b[0;34m(\u001b[0m\u001b[0mself\u001b[0m\u001b[0;34m,\u001b[0m \u001b[0mdocument_data\u001b[0m\u001b[0;34m,\u001b[0m \u001b[0mmerge\u001b[0m\u001b[0;34m=\u001b[0m\u001b[0mmerge\u001b[0m\u001b[0;34m)\u001b[0m\u001b[0;34m\u001b[0m\u001b[0;34m\u001b[0m\u001b[0m\n\u001b[0m\u001b[1;32m    233\u001b[0m         \u001b[0mwrite_results\u001b[0m \u001b[0;34m=\u001b[0m \u001b[0mbatch\u001b[0m\u001b[0;34m.\u001b[0m\u001b[0mcommit\u001b[0m\u001b[0;34m(\u001b[0m\u001b[0;34m)\u001b[0m\u001b[0;34m\u001b[0m\u001b[0;34m\u001b[0m\u001b[0m\n\u001b[1;32m    234\u001b[0m         \u001b[0;32mreturn\u001b[0m \u001b[0m_first_write_result\u001b[0m\u001b[0;34m(\u001b[0m\u001b[0mwrite_results\u001b[0m\u001b[0;34m)\u001b[0m\u001b[0;34m\u001b[0m\u001b[0;34m\u001b[0m\u001b[0m\n",
      "\u001b[0;32m/anaconda3/lib/python3.7/site-packages/google/cloud/firestore_v1/batch.py\u001b[0m in \u001b[0;36mset\u001b[0;34m(self, reference, document_data, merge)\u001b[0m\n\u001b[1;32m     86\u001b[0m         \u001b[0;32melse\u001b[0m\u001b[0;34m:\u001b[0m\u001b[0;34m\u001b[0m\u001b[0;34m\u001b[0m\u001b[0m\n\u001b[1;32m     87\u001b[0m             write_pbs = _helpers.pbs_for_set_no_merge(\n\u001b[0;32m---> 88\u001b[0;31m                 \u001b[0mreference\u001b[0m\u001b[0;34m.\u001b[0m\u001b[0m_document_path\u001b[0m\u001b[0;34m,\u001b[0m \u001b[0mdocument_data\u001b[0m\u001b[0;34m\u001b[0m\u001b[0;34m\u001b[0m\u001b[0m\n\u001b[0m\u001b[1;32m     89\u001b[0m             )\n\u001b[1;32m     90\u001b[0m \u001b[0;34m\u001b[0m\u001b[0m\n",
      "\u001b[0;32m/anaconda3/lib/python3.7/site-packages/google/cloud/firestore_v1/_helpers.py\u001b[0m in \u001b[0;36mpbs_for_set_no_merge\u001b[0;34m(document_path, document_data)\u001b[0m\n\u001b[1;32m    572\u001b[0m     \u001b[0;31m# Conformance tests require send the 'update_pb' even if the document\u001b[0m\u001b[0;34m\u001b[0m\u001b[0;34m\u001b[0m\u001b[0;34m\u001b[0m\u001b[0m\n\u001b[1;32m    573\u001b[0m     \u001b[0;31m# contains only transforms.\u001b[0m\u001b[0;34m\u001b[0m\u001b[0;34m\u001b[0m\u001b[0;34m\u001b[0m\u001b[0m\n\u001b[0;32m--> 574\u001b[0;31m     \u001b[0mwrite_pbs\u001b[0m \u001b[0;34m=\u001b[0m \u001b[0;34m[\u001b[0m\u001b[0mextractor\u001b[0m\u001b[0;34m.\u001b[0m\u001b[0mget_update_pb\u001b[0m\u001b[0;34m(\u001b[0m\u001b[0mdocument_path\u001b[0m\u001b[0;34m)\u001b[0m\u001b[0;34m]\u001b[0m\u001b[0;34m\u001b[0m\u001b[0;34m\u001b[0m\u001b[0m\n\u001b[0m\u001b[1;32m    575\u001b[0m \u001b[0;34m\u001b[0m\u001b[0m\n\u001b[1;32m    576\u001b[0m     \u001b[0;32mif\u001b[0m \u001b[0mextractor\u001b[0m\u001b[0;34m.\u001b[0m\u001b[0mhas_transforms\u001b[0m\u001b[0;34m:\u001b[0m\u001b[0;34m\u001b[0m\u001b[0;34m\u001b[0m\u001b[0m\n",
      "\u001b[0;32m/anaconda3/lib/python3.7/site-packages/google/cloud/firestore_v1/_helpers.py\u001b[0m in \u001b[0;36mget_update_pb\u001b[0;34m(self, document_path, exists, allow_empty_mask)\u001b[0m\n\u001b[1;32m    457\u001b[0m         update_pb = write_pb2.Write(\n\u001b[1;32m    458\u001b[0m             update=document_pb2.Document(\n\u001b[0;32m--> 459\u001b[0;31m                 \u001b[0mname\u001b[0m\u001b[0;34m=\u001b[0m\u001b[0mdocument_path\u001b[0m\u001b[0;34m,\u001b[0m \u001b[0mfields\u001b[0m\u001b[0;34m=\u001b[0m\u001b[0mencode_dict\u001b[0m\u001b[0;34m(\u001b[0m\u001b[0mself\u001b[0m\u001b[0;34m.\u001b[0m\u001b[0mset_fields\u001b[0m\u001b[0;34m)\u001b[0m\u001b[0;34m\u001b[0m\u001b[0;34m\u001b[0m\u001b[0m\n\u001b[0m\u001b[1;32m    460\u001b[0m             ),\n\u001b[1;32m    461\u001b[0m             \u001b[0mupdate_mask\u001b[0m\u001b[0;34m=\u001b[0m\u001b[0mself\u001b[0m\u001b[0;34m.\u001b[0m\u001b[0m_get_update_mask\u001b[0m\u001b[0;34m(\u001b[0m\u001b[0mallow_empty_mask\u001b[0m\u001b[0;34m)\u001b[0m\u001b[0;34m,\u001b[0m\u001b[0;34m\u001b[0m\u001b[0;34m\u001b[0m\u001b[0m\n",
      "\u001b[0;32m/anaconda3/lib/python3.7/site-packages/google/cloud/firestore_v1/_helpers.py\u001b[0m in \u001b[0;36mencode_dict\u001b[0;34m(values_dict)\u001b[0m\n\u001b[1;32m    213\u001b[0m         \u001b[0mvalues\u001b[0m\u001b[0;34m.\u001b[0m\u001b[0;34m\u001b[0m\u001b[0;34m\u001b[0m\u001b[0m\n\u001b[1;32m    214\u001b[0m     \"\"\"\n\u001b[0;32m--> 215\u001b[0;31m     \u001b[0;32mreturn\u001b[0m \u001b[0;34m{\u001b[0m\u001b[0mkey\u001b[0m\u001b[0;34m:\u001b[0m \u001b[0mencode_value\u001b[0m\u001b[0;34m(\u001b[0m\u001b[0mvalue\u001b[0m\u001b[0;34m)\u001b[0m \u001b[0;32mfor\u001b[0m \u001b[0mkey\u001b[0m\u001b[0;34m,\u001b[0m \u001b[0mvalue\u001b[0m \u001b[0;32min\u001b[0m \u001b[0msix\u001b[0m\u001b[0;34m.\u001b[0m\u001b[0miteritems\u001b[0m\u001b[0;34m(\u001b[0m\u001b[0mvalues_dict\u001b[0m\u001b[0;34m)\u001b[0m\u001b[0;34m}\u001b[0m\u001b[0;34m\u001b[0m\u001b[0;34m\u001b[0m\u001b[0m\n\u001b[0m\u001b[1;32m    216\u001b[0m \u001b[0;34m\u001b[0m\u001b[0m\n\u001b[1;32m    217\u001b[0m \u001b[0;34m\u001b[0m\u001b[0m\n",
      "\u001b[0;32m/anaconda3/lib/python3.7/site-packages/google/cloud/firestore_v1/_helpers.py\u001b[0m in \u001b[0;36m<dictcomp>\u001b[0;34m(.0)\u001b[0m\n\u001b[1;32m    213\u001b[0m         \u001b[0mvalues\u001b[0m\u001b[0;34m.\u001b[0m\u001b[0;34m\u001b[0m\u001b[0;34m\u001b[0m\u001b[0m\n\u001b[1;32m    214\u001b[0m     \"\"\"\n\u001b[0;32m--> 215\u001b[0;31m     \u001b[0;32mreturn\u001b[0m \u001b[0;34m{\u001b[0m\u001b[0mkey\u001b[0m\u001b[0;34m:\u001b[0m \u001b[0mencode_value\u001b[0m\u001b[0;34m(\u001b[0m\u001b[0mvalue\u001b[0m\u001b[0;34m)\u001b[0m \u001b[0;32mfor\u001b[0m \u001b[0mkey\u001b[0m\u001b[0;34m,\u001b[0m \u001b[0mvalue\u001b[0m \u001b[0;32min\u001b[0m \u001b[0msix\u001b[0m\u001b[0;34m.\u001b[0m\u001b[0miteritems\u001b[0m\u001b[0;34m(\u001b[0m\u001b[0mvalues_dict\u001b[0m\u001b[0;34m)\u001b[0m\u001b[0;34m}\u001b[0m\u001b[0;34m\u001b[0m\u001b[0;34m\u001b[0m\u001b[0m\n\u001b[0m\u001b[1;32m    216\u001b[0m \u001b[0;34m\u001b[0m\u001b[0m\n\u001b[1;32m    217\u001b[0m \u001b[0;34m\u001b[0m\u001b[0m\n",
      "\u001b[0;32m/anaconda3/lib/python3.7/site-packages/google/cloud/firestore_v1/_helpers.py\u001b[0m in \u001b[0;36mencode_value\u001b[0;34m(value)\u001b[0m\n\u001b[1;32m    198\u001b[0m \u001b[0;34m\u001b[0m\u001b[0m\n\u001b[1;32m    199\u001b[0m     raise TypeError(\n\u001b[0;32m--> 200\u001b[0;31m         \u001b[0;34m\"Cannot convert to a Firestore Value\"\u001b[0m\u001b[0;34m,\u001b[0m \u001b[0mvalue\u001b[0m\u001b[0;34m,\u001b[0m \u001b[0;34m\"Invalid type\"\u001b[0m\u001b[0;34m,\u001b[0m \u001b[0mtype\u001b[0m\u001b[0;34m(\u001b[0m\u001b[0mvalue\u001b[0m\u001b[0;34m)\u001b[0m\u001b[0;34m\u001b[0m\u001b[0;34m\u001b[0m\u001b[0m\n\u001b[0m\u001b[1;32m    201\u001b[0m     )\n\u001b[1;32m    202\u001b[0m \u001b[0;34m\u001b[0m\u001b[0m\n",
      "\u001b[0;31mTypeError\u001b[0m: ('Cannot convert to a Firestore Value', datetime.date(2019, 5, 1), 'Invalid type', <class 'datetime.date'>)"
     ]
    }
   ],
   "source": [
    "processNews(n['title'], n['source'], n['text'], 0)"
   ]
  },
  {
   "cell_type": "code",
   "execution_count": 41,
   "metadata": {},
   "outputs": [
    {
     "data": {
      "text/plain": [
       "{'source': 'https://www.cnn.com/2019/05/01/tech/google-employees-protest-may-day/index.html',\n",
       " 'translated_title_zh': '谷歌员工正在举行另一场抗议活动',\n",
       " 'translated_title_es': 'Los empleados de Google están organizando otra protesta.',\n",
       " 'translated_title_hi': 'Google कर्मचारी एक और विरोध प्रदर्शन कर रहे हैं',\n",
       " 'text': [{'en': 'London (CNN Business)Protests are taking place at Google offices Wednesday, following allegations of retaliation from the company against employees who participated in walkouts last year.',\n",
       "   'zh': '伦敦（美国有线电视新闻网商业）周三，谷歌办公室正在举行抗议活动，此前该公司对参与罢工的员工进行了报复。',\n",
       "   'es': 'Las protestas en Londres (CNN Business) se llevarán a cabo en las oficinas de Google el miércoles, luego de las acusaciones de represalias de la empresa contra los empleados que participaron en las huelgas el año pasado.',\n",
       "   'hi': 'लंदन (CNN Business) पिछले साल वॉकआउट में भाग लेने वाले कर्मचारियों के खिलाफ कंपनी द्वारा प्रतिशोध के आरोपों के बाद, बुधवार को Google कार्यालयों में विरोध प्रदर्शन हो रहे हैं।'},\n",
       "  {'en': \"Leaders of the protests have called on their co-workers to participate in sit-ins at Google offices around the world, six months after walkouts over the company's handling of sexual harassment claims.\",\n",
       "   'zh': '抗议活动的领导人呼吁他们的同事参与世界各地谷歌办事处的静坐，这是在该公司处理性骚扰索赔的六个月之后。',\n",
       "   'es': 'Los líderes de las protestas han pedido a sus compañeros de trabajo que participen en sentadas en las oficinas de Google en todo el mundo, seis meses después de las huellas por el manejo de reclamos de acoso sexual de la compañía.',\n",
       "   'hi': 'विरोध प्रदर्शन के नेताओं ने कंपनी के यौन उत्पीड़न के दावों से निपटने के लिए वॉकआउट के छह महीने बाद, अपने सहकर्मियों को दुनिया भर के Google कार्यालयों में भाग लेने के लिए बुलाया है।'},\n",
       "  {'en': 'Organizers publicized the protests on Twitter, and one Google (GOOGL) employee told CNN Business that workers from at least 15 offices in the United States were expected to participate. A second employee in London confirmed that protests were planned for Wednesday.',\n",
       "   'zh': '组织者在Twitter上宣传抗议活动，一名谷歌（GOOGL）员工告诉美国有线电视新闻网（CNN Business），预计美国至少有15个办事处的工作人员将参加。伦敦的第二名员工证实，计划于周三举行抗议活动。',\n",
       "   'es': 'Los organizadores publicaron las protestas en Twitter, y un empleado de Google le dijo a CNN Business que se esperaba que participaran trabajadores de al menos 15 oficinas en los Estados Unidos. Un segundo empleado en Londres confirmó que las protestas estaban previstas para el miércoles.',\n",
       "   'hi': 'आयोजकों ने ट्विटर पर विरोध प्रदर्शनों को प्रचारित किया, और Google (GOOGL) के एक कर्मचारी ने CNN बिज़नेस को बताया कि संयुक्त राज्य में कम से कम 15 कार्यालयों के कर्मचारियों के भाग लेने की उम्मीद थी। लंदन के एक दूसरे कर्मचारी ने पुष्टि की कि विरोध प्रदर्शन की योजना बुधवार को बनाई गई थी।'},\n",
       "  {'en': 'Thousands of Google employees walked out in November after a New York Times report detailed years of sexual harassment allegations at the company and big payouts for accused executives.',\n",
       "   'zh': '在“纽约时报”报道该公司多年来的性骚扰指控以及对被控高管的大额支出之后，数十名谷歌员工于11月离职。',\n",
       "   'es': 'Miles de empleados de Google se retiraron en noviembre después de que un informe del New York Times detallaba años de acusaciones de acoso sexual en la empresa y grandes pagos para los ejecutivos acusados.',\n",
       "   'hi': 'न्यूयॉर्क टाइम्स द्वारा कंपनी में यौन उत्पीड़न के आरोपों के विस्तृत वर्षों और आरोपी अधिकारियों के लिए बड़े भुगतान के बाद नवंबर में हजारों Google कर्मचारी बाहर चले गए।'},\n",
       "  {'en': 'Google made some changes to its internal policies following the protests, including eliminating its forced arbitration policies for employees bringing sexual assault or harassment claims.',\n",
       "   'zh': '在抗议活动之后，谷歌对其内部政策进行了一些修改，包括取消对员工提起性侵犯或骚扰索赔的强制性仲裁政策。',\n",
       "   'es': 'Google realizó algunos cambios en sus políticas internas luego de las protestas, incluida la eliminación de sus políticas de arbitraje forzoso para los empleados que presentan agresiones sexuales o reclamos de acoso.',\n",
       "   'hi': 'विरोध प्रदर्शनों के बाद Google ने अपनी आंतरिक नीतियों में कुछ बदलाव किए, जिनमें यौन उत्पीड़न या उत्पीड़न के दावे लाने वाले कर्मचारियों के लिए अपनी मजबूर मध्यस्थता नीतियों को समाप्त करना शामिल है।'},\n",
       "  {'en': 'But protest organizers say that some workers who participated in the walkouts or voiced concerns about sexual harassment and discrimination have faced retaliation from Google.',\n",
       "   'zh': '但抗议活动组织者表示，参与罢工或表达对性骚扰和歧视的担忧的一些工人遭到谷歌的报复。',\n",
       "   'es': 'Pero los organizadores de la protesta dicen que algunos trabajadores que participaron en las caminatas o que expresaron su preocupación por el acoso sexual y la discriminación han enfrentado represalias por parte de Google.',\n",
       "   'hi': 'लेकिन विरोध आयोजकों का कहना है कि यौन उत्पीड़न और भेदभाव के बारे में वॉकआउट या आवाज की चिंताओं में भाग लेने वाले कुछ श्रमिकों ने Google से प्रतिशोध का सामना किया है।'},\n",
       "  {'en': 'According to Wired, at least two employees involved with organizing the walkouts have accused the company of retaliation following the walkout. One claims she was demoted, while a second says her job was restructured.',\n",
       "   'zh': '根据Wired的说法，至少有两名参与组织罢工的员工指责该公司在罢工后遭到报复。一个人声称她被降职，而另一个人说她的工作是重组的。',\n",
       "   'es': 'Según Wired, al menos dos empleados involucrados en la organización de los paros han acusado a la compañía de represalias después del paro. Uno afirma que fue degradada, mientras que un segundo dice que su trabajo fue reestructurado.',\n",
       "   'hi': 'वायर्ड के अनुसार, वॉकआउट के आयोजन से जुड़े कम से कम दो कर्मचारियों ने वॉकआउट के बाद कंपनी पर प्रतिशोध का आरोप लगाया है। एक का दावा है कि उसे पदावनत कर दिया गया था, जबकि एक का कहना है कि उसकी नौकरी का पुनर्गठन किया गया था।'},\n",
       "  {'en': '\"From being told to go on sick leave when you\\'re not sick, to having your reports taken away, we\\'re sick of retaliation,\" organizers tweeted Tuesday from the Twitter account @GoogleWalkout.',\n",
       "   'zh': '组织者周二在推特账号@GoogleWalkout上发布的消息说：“从没有生病时被告知病假，到报告被带走，我们都厌倦了报复。”',\n",
       "   'es': '\"Desde que nos dicen que salgamos de baja por enfermedad cuando no está enfermo, que nos quiten sus informes, estamos hartos de represalias\", publicaron los organizadores en Twitter desde la cuenta de Twitter @GoogleWalkout.',\n",
       "   'hi': 'आयोजकों ने मंगलवार को ट्विटर अकाउंट @GoogleWalkout से मंगलवार को ट्वीट किया, \"बीमार होने पर जाने से, जब आप बीमार न हों, तो अपनी रिपोर्ट वापस लेने के लिए, हम प्रतिशोध से बीमार हैं।\"'}]}"
      ]
     },
     "execution_count": 41,
     "metadata": {},
     "output_type": "execute_result"
    }
   ],
   "source": []
  },
  {
   "cell_type": "code",
   "execution_count": 42,
   "metadata": {},
   "outputs": [],
   "source": []
  },
  {
   "cell_type": "code",
   "execution_count": 46,
   "metadata": {},
   "outputs": [],
   "source": []
  },
  {
   "cell_type": "code",
   "execution_count": 84,
   "metadata": {},
   "outputs": [
    {
     "data": {
      "text/plain": [
       "datetime.date(2019, 5, 3)"
      ]
     },
     "execution_count": 84,
     "metadata": {},
     "output_type": "execute_result"
    }
   ],
   "source": []
  },
  {
   "cell_type": "code",
   "execution_count": null,
   "metadata": {},
   "outputs": [],
   "source": []
  }
 ],
 "metadata": {
  "kernelspec": {
   "display_name": "Python 3",
   "language": "python",
   "name": "python3"
  },
  "language_info": {
   "codemirror_mode": {
    "name": "ipython",
    "version": 3
   },
   "file_extension": ".py",
   "mimetype": "text/x-python",
   "name": "python",
   "nbconvert_exporter": "python",
   "pygments_lexer": "ipython3",
   "version": "3.7.3"
  }
 },
 "nbformat": 4,
 "nbformat_minor": 2
}
