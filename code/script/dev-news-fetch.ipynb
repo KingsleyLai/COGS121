{
 "cells": [
  {
   "cell_type": "markdown",
   "metadata": {},
   "source": [
    "## Python script to read json files of news to process and translate news, then push all data into our firebase database"
   ]
  },
  {
   "cell_type": "code",
   "execution_count": 1,
   "metadata": {},
   "outputs": [],
   "source": [
    "import datetime\n",
    "import json\n",
    "import os\n",
    "import firebase_admin\n",
    "from firebase_admin import credentials, firestore\n",
    "from googletrans import Translator\n",
    "from faker import Faker"
   ]
  },
  {
   "cell_type": "code",
   "execution_count": 2,
   "metadata": {},
   "outputs": [],
   "source": [
    "f = open(\"esl_words.txt\")\n",
    "esl_words = [line.rstrip('\\n') for line in f]\n",
    "f.close()"
   ]
  },
  {
   "cell_type": "code",
   "execution_count": 3,
   "metadata": {},
   "outputs": [
    {
     "name": "stdout",
     "output_type": "stream",
     "text": [
      "11712\n"
     ]
    }
   ],
   "source": [
    "esl_words = set(esl_words)\n",
    "print(len(esl_words))"
   ]
  },
  {
   "cell_type": "code",
   "execution_count": 4,
   "metadata": {},
   "outputs": [
    {
     "name": "stdout",
     "output_type": "stream",
     "text": [
      "hello\n"
     ]
    }
   ],
   "source": [
    "if \"tightly\" in esl_words: print(\"hello\")"
   ]
  },
  {
   "cell_type": "code",
   "execution_count": 5,
   "metadata": {},
   "outputs": [
    {
     "data": {
      "text/plain": [
       "<firebase_admin.App at 0x106c72470>"
      ]
     },
     "execution_count": 5,
     "metadata": {},
     "output_type": "execute_result"
    }
   ],
   "source": [
    "cred = credentials.Certificate(os.getcwd() + \"/cogs121-goduck-firebase-adminsdk-f5baa-73bc1269cd.json\")\n",
    "firebase_admin.initialize_app(cred)"
   ]
  },
  {
   "cell_type": "code",
   "execution_count": 6,
   "metadata": {},
   "outputs": [],
   "source": [
    "translator = Translator()\n",
    "fake = Faker()"
   ]
  },
  {
   "cell_type": "code",
   "execution_count": 7,
   "metadata": {},
   "outputs": [],
   "source": [
    "db = firestore.client()\n",
    "news_content_ref = db.collection('news_content')\n",
    "news_overview_ref = db.collection('news_overview')"
   ]
  },
  {
   "cell_type": "code",
   "execution_count": 8,
   "metadata": {},
   "outputs": [],
   "source": [
    "with open(os.getcwd() + \"/new1.json\", 'r') as f:\n",
    "    data = temp = json.load(f)"
   ]
  },
  {
   "cell_type": "code",
   "execution_count": 9,
   "metadata": {},
   "outputs": [],
   "source": [
    "def processNews(title, source, text, category):\n",
    "    news_content_obj = {\"title\": title}\n",
    "    news_content_obj[\"source\"] = source\n",
    "    news_content_obj[\"category\"] = category\n",
    "    news_content_obj[\"translated_title_zh\"] = translator.translate(title, dest='zh-cn', src='en').text\n",
    "    news_content_obj[\"translated_title_es\"] = translator.translate(title, dest='es', src='en').text\n",
    "    news_content_obj[\"translated_title_hi\"] = translator.translate(title, dest='hi', src='en').text\n",
    "\n",
    "    p_list = text.split(\"\\n\")\n",
    "    news_content_obj[\"text\"] = []\n",
    "    \n",
    "    for p in p_list:\n",
    "        temp = {}\n",
    "        array_p = p.split(\" \")\n",
    "        temp_arr = []\n",
    "        for w in array_p:\n",
    "            if w.lower() in esl_words:\n",
    "                t1 = translator.translate(w, dest='zh-cn', src='en').text\n",
    "                t2 = translator.translate(w, dest='es', src='en').text\n",
    "                t3 = translator.translate(w, dest='hi', src='en').text  \n",
    "                w = '<esl data=\"' + t1 + ',' + t2 + ',' + t3 + '\">' + w + \"</esl>\"\n",
    "            temp_arr.append(w)\n",
    "        temp['zh'] = translator.translate(p, dest='zh-cn', src='en').text\n",
    "        temp['es'] = translator.translate(p, dest='es', src='en').text\n",
    "        temp['hi'] = translator.translate(p, dest='hi', src='en').text\n",
    "        temp['en'] = \" \".join(temp_arr)\n",
    "        news_content_obj[\"text\"].append(temp)\n",
    "        \n",
    "    news_content_obj['publish_time'] = fake.past_datetime(start_date=\"-3d\", tzinfo=None)\n",
    "    \n",
    "    news_content_obj_ref = news_content_ref.add(news_content_obj)\n",
    "    news_content_obj_id = news_content_obj_ref[1].get().id\n",
    "    \n",
    "    news_overview_obj = {\"title\": title}\n",
    "    news_overview_obj['content_id'] = news_content_obj_id\n",
    "    news_overview_obj[\"source\"] = source \n",
    "    news_overview_obj[\"publish_time\"] = news_content_obj['publish_time']\n",
    "    news_overview_obj[\"translated_title_zh\"] = news_content_obj[\"translated_title_zh\"]\n",
    "    news_overview_obj[\"translated_title_es\"] = news_content_obj[\"translated_title_es\"]\n",
    "    news_overview_obj[\"translated_title_hi\"] = news_content_obj[\"translated_title_hi\"]\n",
    "    news_overview_obj[\"category\"] = news_content_obj[\"category\"]\n",
    "    \n",
    "    news_overview_ref.add(news_overview_obj)"
   ]
  },
  {
   "cell_type": "code",
   "execution_count": 10,
   "metadata": {},
   "outputs": [],
   "source": [
    "#for n in data[\"news\"]['business']:\n",
    "# n = data['news']['business'][1]\n",
    "# processNews(n['title'], n['source'], n['text'], 1)"
   ]
  },
  {
   "cell_type": "code",
   "execution_count": null,
   "metadata": {},
   "outputs": [],
   "source": [
    "for n in data[\"news\"]['tech']:\n",
    "    processNews(n['title'], n['source'], n['text'], 0)"
   ]
  },
  {
   "cell_type": "code",
   "execution_count": null,
   "metadata": {},
   "outputs": [],
   "source": [
    "for n in data[\"news\"]['business']:\n",
    "    processNews(n['title'], n['source'], n['text'], 1)"
   ]
  },
  {
   "cell_type": "code",
   "execution_count": 10,
   "metadata": {},
   "outputs": [],
   "source": [
    "for n in data[\"news\"]['politic']:\n",
    "    processNews(n['title'], n['source'], n['text'], 2)"
   ]
  },
  {
   "cell_type": "code",
   "execution_count": null,
   "metadata": {},
   "outputs": [],
   "source": []
  }
 ],
 "metadata": {
  "kernelspec": {
   "display_name": "Python 3",
   "language": "python",
   "name": "python3"
  },
  "language_info": {
   "codemirror_mode": {
    "name": "ipython",
    "version": 3
   },
   "file_extension": ".py",
   "mimetype": "text/x-python",
   "name": "python",
   "nbconvert_exporter": "python",
   "pygments_lexer": "ipython3",
   "version": "3.6.4"
  }
 },
 "nbformat": 4,
 "nbformat_minor": 2
}
