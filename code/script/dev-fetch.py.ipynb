{
 "cells": [
  {
   "cell_type": "code",
   "execution_count": 7,
   "metadata": {},
   "outputs": [],
   "source": [
    "import json\n",
    "import os\n",
    "import firebase_admin\n",
    "from firebase_admin import credentials, firestore"
   ]
  },
  {
   "cell_type": "code",
   "execution_count": 4,
   "metadata": {},
   "outputs": [
    {
     "data": {
      "text/plain": [
       "<firebase_admin.App at 0x10a2277f0>"
      ]
     },
     "execution_count": 4,
     "metadata": {},
     "output_type": "execute_result"
    }
   ],
   "source": [
    "cred = credentials.Certificate(os.getcwd() + \"/cogs121-goduck-firebase-adminsdk-f5baa-73bc1269cd.json\")\n",
    "firebase_admin.initialize_app(cred)"
   ]
  },
  {
   "cell_type": "code",
   "execution_count": 5,
   "metadata": {},
   "outputs": [],
   "source": [
    "db = firestore.client()"
   ]
  },
  {
   "cell_type": "code",
   "execution_count": 13,
   "metadata": {},
   "outputs": [],
   "source": [
    "def getNotebookBy(userid):\n",
    "    with open(os.getcwd() + \"/fake_data.json\", 'r') as f:\n",
    "        temp = json.load(f)\n",
    "        print(temp)\n",
    "        return temp['notebook'][userid]\n"
   ]
  },
  {
   "cell_type": "code",
   "execution_count": 14,
   "metadata": {},
   "outputs": [
    {
     "name": "stdout",
     "output_type": "stream",
     "text": [
      "{'notebook': {'testuserid': [{'en': 'smartphone', 'zh': '手机', 'es': 'teléfono inteligente', 'hi': 'स्मार्टफोन'}, {'en': 'disappointment', 'zh': '失望', 'es': 'decepción', 'hi': 'निराशा'}, {'en': 'hardware', 'zh': '硬件', 'es': 'hardware', 'hi': 'हार्डवेयर'}, {'en': 'industry', 'zh': '行业', 'es': 'industria', 'hi': 'उद्योग'}, {'en': 'device', 'zh': '设备', 'es': 'dispositivo', 'hi': 'युक्ति'}, {'en': 'important', 'zh': '重要', 'es': 'importante', 'hi': 'जरूरी'}, {'en': 'company', 'zh': '公司', 'es': 'empresa', 'hi': 'कंपनी'}, {'en': 'hopeful', 'zh': '有希望', 'es': 'esperanzada', 'hi': 'आशावान'}, {'en': 'pressure', 'zh': '压力', 'es': 'presión', 'hi': 'दबाव'}, {'en': 'foldable', 'zh': '可折叠', 'es': 'plegable', 'hi': 'तह'}, {'en': 'continue', 'zh': '继续', 'es': 'continuar', 'hi': 'जारी रहना'}, {'en': 'result', 'zh': '结果', 'es': 'resultado', 'hi': 'परिणामा'}]}}\n"
     ]
    },
    {
     "data": {
      "text/plain": [
       "[{'en': 'smartphone',\n",
       "  'zh': '手机',\n",
       "  'es': 'teléfono inteligente',\n",
       "  'hi': 'स्मार्टफोन'},\n",
       " {'en': 'disappointment', 'zh': '失望', 'es': 'decepción', 'hi': 'निराशा'},\n",
       " {'en': 'hardware', 'zh': '硬件', 'es': 'hardware', 'hi': 'हार्डवेयर'},\n",
       " {'en': 'industry', 'zh': '行业', 'es': 'industria', 'hi': 'उद्योग'},\n",
       " {'en': 'device', 'zh': '设备', 'es': 'dispositivo', 'hi': 'युक्ति'},\n",
       " {'en': 'important', 'zh': '重要', 'es': 'importante', 'hi': 'जरूरी'},\n",
       " {'en': 'company', 'zh': '公司', 'es': 'empresa', 'hi': 'कंपनी'},\n",
       " {'en': 'hopeful', 'zh': '有希望', 'es': 'esperanzada', 'hi': 'आशावान'},\n",
       " {'en': 'pressure', 'zh': '压力', 'es': 'presión', 'hi': 'दबाव'},\n",
       " {'en': 'foldable', 'zh': '可折叠', 'es': 'plegable', 'hi': 'तह'},\n",
       " {'en': 'continue', 'zh': '继续', 'es': 'continuar', 'hi': 'जारी रहना'},\n",
       " {'en': 'result', 'zh': '结果', 'es': 'resultado', 'hi': 'परिणामा'}]"
      ]
     },
     "execution_count": 14,
     "metadata": {},
     "output_type": "execute_result"
    }
   ],
   "source": [
    "getNotebookBy('testuserid')"
   ]
  },
  {
   "cell_type": "code",
   "execution_count": null,
   "metadata": {},
   "outputs": [],
   "source": []
  }
 ],
 "metadata": {
  "kernelspec": {
   "display_name": "Python 3",
   "language": "python",
   "name": "python3"
  },
  "language_info": {
   "codemirror_mode": {
    "name": "ipython",
    "version": 3
   },
   "file_extension": ".py",
   "mimetype": "text/x-python",
   "name": "python",
   "nbconvert_exporter": "python",
   "pygments_lexer": "ipython3",
   "version": "3.7.3"
  }
 },
 "nbformat": 4,
 "nbformat_minor": 2
}
